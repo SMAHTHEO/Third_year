{
 "cells": [
  {
   "cell_type": "markdown",
   "id": "58b9e625",
   "metadata": {},
   "source": [
    "# 如何使用扩散模型进行动作编辑"
   ]
  },
  {
   "cell_type": "markdown",
   "id": "848b5c24",
   "metadata": {},
   "source": [
    "### 1. 环境设置"
   ]
  },
  {
   "cell_type": "code",
   "execution_count": 1,
   "id": "43a51f12",
   "metadata": {},
   "outputs": [],
   "source": [
    "import sys\n",
    "import os\n",
    "\n",
    "# 获取上级目录的绝对路径\n",
    "path = os.path.abspath(os.path.join('..'))\n",
    "if path not in sys.path:\n",
    "    sys.path.append(path)\n"
   ]
  },
  {
   "cell_type": "markdown",
   "id": "31e6109a",
   "metadata": {},
   "source": [
    "### 2. 数据加载"
   ]
  },
  {
   "cell_type": "code",
   "execution_count": null,
   "id": "dcc8394f",
   "metadata": {},
   "outputs": [],
   "source": []
  }
 ],
 "metadata": {
  "kernelspec": {
   "display_name": "Python 3 (ipykernel)",
   "language": "python",
   "name": "python3"
  },
  "language_info": {
   "codemirror_mode": {
    "name": "ipython",
    "version": 3
   },
   "file_extension": ".py",
   "mimetype": "text/x-python",
   "name": "python",
   "nbconvert_exporter": "python",
   "pygments_lexer": "ipython3",
   "version": "3.10.7"
  }
 },
 "nbformat": 4,
 "nbformat_minor": 5
}
